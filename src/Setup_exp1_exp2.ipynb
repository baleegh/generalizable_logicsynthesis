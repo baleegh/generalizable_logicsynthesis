{
  "nbformat": 4,
  "nbformat_minor": 0,
  "metadata": {
    "colab": {
      "name": "dl_project_ba1283.ipynb",
      "provenance": [],
      "collapsed_sections": []
    },
    "kernelspec": {
      "name": "python3",
      "display_name": "Python 3"
    },
    "language_info": {
      "name": "python"
    },
    "accelerator": "GPU"
  },
  "cells": [
    {
      "cell_type": "markdown",
      "source": [
        "## Setup"
      ],
      "metadata": {
        "id": "gBd0y-WJd_1X"
      }
    },
    {
      "cell_type": "code",
      "execution_count": null,
      "metadata": {
        "id": "8NQjHEjIdKJ9"
      },
      "outputs": [],
      "source": [
        "import os\n",
        "import pandas as pd\n",
        "import torch\n",
        "from torch.utils import data\n",
        "from torch import nn\n",
        "import matplotlib.pyplot as plt\n",
        "import numpy as np"
      ]
    },
    {
      "cell_type": "code",
      "source": [
        "pip install gitpython # to download datasets for git repository"
      ],
      "metadata": {
        "colab": {
          "base_uri": "https://localhost:8080/"
        },
        "id": "Uh75meAwdRTP",
        "outputId": "189fa3dc-9a1c-4cfb-cc84-d9d026cec5c8"
      },
      "execution_count": null,
      "outputs": [
        {
          "output_type": "stream",
          "name": "stdout",
          "text": [
            "Collecting gitpython\n",
            "  Downloading GitPython-3.1.24-py3-none-any.whl (180 kB)\n",
            "\u001b[K     |████████████████████████████████| 180 kB 4.1 MB/s \n",
            "\u001b[?25hRequirement already satisfied: typing-extensions>=3.7.4.3 in /usr/local/lib/python3.7/dist-packages (from gitpython) (3.10.0.2)\n",
            "Collecting gitdb<5,>=4.0.1\n",
            "  Downloading gitdb-4.0.9-py3-none-any.whl (63 kB)\n",
            "\u001b[K     |████████████████████████████████| 63 kB 1.3 MB/s \n",
            "\u001b[?25hCollecting smmap<6,>=3.0.1\n",
            "  Downloading smmap-5.0.0-py3-none-any.whl (24 kB)\n",
            "Installing collected packages: smmap, gitdb, gitpython\n",
            "Successfully installed gitdb-4.0.9 gitpython-3.1.24 smmap-5.0.0\n"
          ]
        }
      ]
    },
    {
      "cell_type": "code",
      "source": [
        "from git import Repo\n",
        "\n",
        "Repo.clone_from(\"https://github.com/iwls2020-lsml-contest/iwls2020-lsml-contest.git\", \"iwls2020-lsml-contest\")"
      ],
      "metadata": {
        "colab": {
          "base_uri": "https://localhost:8080/"
        },
        "id": "ZZ1hxvEKdblt",
        "outputId": "31ca7fc8-745b-49c9-bdb9-741c48d11c5c"
      },
      "execution_count": null,
      "outputs": [
        {
          "output_type": "execute_result",
          "data": {
            "text/plain": [
              "<git.repo.base.Repo '/content/iwls2020-lsml-contest/.git'>"
            ]
          },
          "metadata": {},
          "execution_count": 4
        }
      ]
    },
    {
      "cell_type": "markdown",
      "source": [
        "### Visualizing Data"
      ],
      "metadata": {
        "id": "AFmQYTkVd6fq"
      }
    },
    {
      "cell_type": "code",
      "source": [
        "# read file from train directory\n",
        "file_data = open('iwls2020-lsml-contest/benchmarks/train/ex10.train.pla', 'r')\n",
        "file_data = file_data.readlines()\n",
        "\n",
        "# preprocess file to separate inputs and outputs\n",
        "x = []\n",
        "y = []\n",
        "for line in file_data:\n",
        "  if not (line.startswith('.')):\n",
        "    x.append( line[:line.index(' ')] )\n",
        "    y.append( line[ line.index(' ')+1:line.index(' ')+2 ] ) \n",
        "\n",
        "num_samples_per_file = len(x)\n",
        "num_bits_in_sample = len(x[0])\n",
        "\n",
        "# print details\n",
        "print(\"num_samples_per_file = \", num_samples_per_file)\n",
        "print(\"num_bits_in_sample = \", num_bits_in_sample)\n",
        "\n",
        "# print 5 samples\n",
        "\n",
        "print(\"\\n5 training samples with labels: \")\n",
        "print( '    x','                             y')\n",
        "for i in range(5):\n",
        "  print(x[i], ' ', y[i])\n"
      ],
      "metadata": {
        "colab": {
          "base_uri": "https://localhost:8080/"
        },
        "id": "PY1DEAvpd-K8",
        "outputId": "2026ab7c-44ba-4064-b14a-8b4cbf2d5f50"
      },
      "execution_count": null,
      "outputs": [
        {
          "output_type": "stream",
          "name": "stdout",
          "text": [
            "num_samples_per_file =  6400\n",
            "num_bits_in_sample =  32\n",
            "\n",
            "5 training samples with labels: \n",
            "    x                              y\n",
            "00100001111011111011001101001010   0\n",
            "10011010011000101011111010010001   0\n",
            "00101010100111101000011001000111   0\n",
            "11010110101001111000100000100011   1\n",
            "00001010001111100001011001111000   0\n"
          ]
        }
      ]
    },
    {
      "cell_type": "markdown",
      "source": [
        "## Training one circuit (one file with 6400 samples)"
      ],
      "metadata": {
        "id": "gmNK7L29gnk2"
      }
    },
    {
      "cell_type": "code",
      "source": [
        "''' convert data to tensors  '''\n",
        "\n",
        "# separates string to characters \n",
        "def split(word): \n",
        "    return [char for char in word] \n",
        "\n",
        "for i,input in enumerate(x):\n",
        "  x[i] = split(input)\n",
        "  # convert each character to integer\n",
        "  for j,bit in enumerate(x[i]):\n",
        "      x[i][j] = int(bit)\n",
        "\n",
        "features = torch.FloatTensor(x)\n",
        "y = [int(i) for i in y]\n",
        "labels = torch.FloatTensor(y)"
      ],
      "metadata": {
        "id": "XZvNN1jpesUq"
      },
      "execution_count": null,
      "outputs": []
    },
    {
      "cell_type": "code",
      "source": [
        "''' Form a data iterator with batch size 10 '''\n",
        "\n",
        "def load_array(data_arrays, batch_size, is_train=True):\n",
        "    \"\"\"Construct a PyTorch data iterator.\"\"\"\n",
        "    dataset = data.TensorDataset(*data_arrays)\n",
        "    return data.DataLoader(dataset, batch_size, shuffle=is_train)\n",
        "\n",
        "batch_size = 10\n",
        "data_iter = load_array((features, labels), batch_size)"
      ],
      "metadata": {
        "id": "5pRdbaEhkjvH"
      },
      "execution_count": null,
      "outputs": []
    },
    {
      "cell_type": "code",
      "source": [
        "''' Setting the neural network '''\n",
        "\n",
        "class BinaryClassification(nn.Module):\n",
        "  def __init__(self, input_size=32):\n",
        "    super(BinaryClassification, self).__init__()\n",
        "    self.linear1 = nn.Linear(input_size,10)\n",
        "    self.linear2 = nn.Linear(10,1)\n",
        "\n",
        "  def forward(self, x):\n",
        "    x = torch.sigmoid( self.linear1(x) )\n",
        "    x = torch.sigmoid( self.linear2(x) )\n",
        "    return x\n",
        "\n",
        "# instantating the network, loss function and optimizer\n",
        "\n",
        "net = BinaryClassification(32) # set input size as size of sample\n",
        "\n",
        "Loss = nn.BCELoss()\n",
        "optimizer = torch.optim.SGD(net.parameters(), lr=0.01)"
      ],
      "metadata": {
        "id": "hGIk812wk2Y3"
      },
      "execution_count": null,
      "outputs": []
    },
    {
      "cell_type": "code",
      "source": [
        "# print model\n",
        "print(net)"
      ],
      "metadata": {
        "colab": {
          "base_uri": "https://localhost:8080/"
        },
        "id": "TlOw4HnflMh1",
        "outputId": "67223d84-74e5-4cd3-d870-8d34d207c02f"
      },
      "execution_count": null,
      "outputs": [
        {
          "output_type": "stream",
          "name": "stdout",
          "text": [
            "BinaryClassification(\n",
            "  (linear1): Linear(in_features=32, out_features=10, bias=True)\n",
            "  (linear2): Linear(in_features=10, out_features=1, bias=True)\n",
            ")\n"
          ]
        }
      ]
    },
    {
      "cell_type": "code",
      "source": [
        "# define accuracy function\n",
        "\n",
        "def accuracy(output,labels):\n",
        "  output = output >=0.5\n",
        "  acc = torch.sum(output==labels)/len(labels)\n",
        "  return acc"
      ],
      "metadata": {
        "id": "qn7UwFvjlQTo"
      },
      "execution_count": null,
      "outputs": []
    },
    {
      "cell_type": "code",
      "source": [
        "''' train the model '''\n",
        "\n",
        "num_epochs = 250\n",
        "acc_list = []\n",
        "loss_list = []\n",
        "for epoch in range(num_epochs):\n",
        "    for X, y in data_iter:\n",
        "        output = net(X)\n",
        "        l = Loss(output, y.reshape(-1,1) )\n",
        "        optimizer.zero_grad()\n",
        "        l.backward()\n",
        "        optimizer.step()\n",
        "    if (epoch%10==0):\n",
        "      acc = accuracy(net(features), labels.reshape(-1,1))\n",
        "      l = Loss(net(features), labels.reshape(-1,1))\n",
        "      acc_list.append(acc)\n",
        "      loss_list.append(l)\n",
        "      print(f'epoch {epoch + 1:3d}, loss {l:.3f}, acc {acc:.3f}')"
      ],
      "metadata": {
        "colab": {
          "base_uri": "https://localhost:8080/"
        },
        "id": "avEPyH1jlWV4",
        "outputId": "1218aa5c-5552-4200-8e44-8d80df982bff"
      },
      "execution_count": null,
      "outputs": [
        {
          "output_type": "stream",
          "name": "stdout",
          "text": [
            "epoch   1, loss 0.638, acc 0.659\n",
            "epoch  11, loss 0.557, acc 0.672\n",
            "epoch  21, loss 0.493, acc 0.705\n",
            "epoch  31, loss 0.479, acc 0.711\n",
            "epoch  41, loss 0.467, acc 0.732\n",
            "epoch  51, loss 0.456, acc 0.727\n",
            "epoch  61, loss 0.445, acc 0.736\n",
            "epoch  71, loss 0.433, acc 0.744\n",
            "epoch  81, loss 0.422, acc 0.747\n",
            "epoch  91, loss 0.410, acc 0.752\n",
            "epoch 101, loss 0.399, acc 0.761\n",
            "epoch 111, loss 0.387, acc 0.769\n",
            "epoch 121, loss 0.375, acc 0.770\n",
            "epoch 131, loss 0.363, acc 0.788\n",
            "epoch 141, loss 0.350, acc 0.796\n",
            "epoch 151, loss 0.337, acc 0.803\n",
            "epoch 161, loss 0.326, acc 0.814\n",
            "epoch 171, loss 0.317, acc 0.822\n",
            "epoch 181, loss 0.309, acc 0.828\n",
            "epoch 191, loss 0.303, acc 0.833\n",
            "epoch 201, loss 0.298, acc 0.836\n",
            "epoch 211, loss 0.294, acc 0.839\n",
            "epoch 221, loss 0.289, acc 0.836\n",
            "epoch 231, loss 0.286, acc 0.840\n",
            "epoch 241, loss 0.283, acc 0.842\n"
          ]
        }
      ]
    },
    {
      "cell_type": "code",
      "source": [
        "plt.plot(loss_list)\n",
        "plt.title ('loss v num_epochs')\n",
        "plt.xlabel('num_epochs')\n",
        "plt.ylabel('loss')"
      ],
      "metadata": {
        "colab": {
          "base_uri": "https://localhost:8080/",
          "height": 313
        },
        "id": "oEe8iKJ7pZCF",
        "outputId": "1e625055-ec0a-404c-9cf9-a2953a869ae7"
      },
      "execution_count": null,
      "outputs": [
        {
          "output_type": "execute_result",
          "data": {
            "text/plain": [
              "Text(0, 0.5, 'loss')"
            ]
          },
          "metadata": {},
          "execution_count": 12
        },
        {
          "output_type": "display_data",
          "data": {
            "image/png": "[encoded data removed]",
            "text/plain": [
              "<Figure size 432x288 with 1 Axes>"
            ]
          },
          "metadata": {
            "needs_background": "light"
          }
        }
      ]
    },
    {
      "cell_type": "code",
      "source": [
        "plt.plot(acc_list)\n",
        "plt.title ('accuracy v num_epochs')\n",
        "plt.xlabel('num_epochs')\n",
        "plt.ylabel('accuracy')"
      ],
      "metadata": {
        "colab": {
          "base_uri": "https://localhost:8080/",
          "height": 313
        },
        "id": "VTLXROM6pfmK",
        "outputId": "627d0339-a54a-402d-f1c9-538e441d6cb5"
      },
      "execution_count": null,
      "outputs": [
        {
          "output_type": "execute_result",
          "data": {
            "text/plain": [
              "Text(0, 0.5, 'accuracy')"
            ]
          },
          "metadata": {},
          "execution_count": 13
        },
        {
          "output_type": "display_data",
          "data": {
            "image/png": "[encoded data removed]",
            "text/plain": [
              "<Figure size 432x288 with 1 Axes>"
            ]
          },
          "metadata": {
            "needs_background": "light"
          }
        }
      ]
    },
    {
      "cell_type": "markdown",
      "source": [
        "# Running over all 100 circuits"
      ],
      "metadata": {
        "id": "BPslqLq7pi9G"
      }
    },
    {
      "cell_type": "markdown",
      "source": [
        "### For each circuit/ truth table:\n",
        "\n",
        "* read the .pla file (circuit)\n",
        "* preprocess the .pla file to get the features and labels as tensors\n",
        "* form a dataloader\n",
        "* define the neural net\n",
        "* train the model for 100 epochs\n",
        "* test the model, note the accuracy\n"
      ],
      "metadata": {
        "id": "YGXEoc8Optom"
      }
    },
    {
      "cell_type": "code",
      "source": [
        "# get all the train and test files\n",
        "\n",
        "train_files = []\n",
        "test_files = []\n",
        "\n",
        "for (dirpath, dirnames, filenames) in os.walk( 'iwls2020-lsml-contest/benchmarks/train/' ):\n",
        "    for file in filenames:\n",
        "      train_files.append(os.path.join(dirpath,file) )\n",
        "for (dirpath, dirnames, filenames) in os.walk( 'iwls2020-lsml-contest/benchmarks/test/' ):\n",
        "    for file in filenames:\n",
        "      test_files.append(os.path.join(dirpath,file) )\n",
        "\n",
        "train_files.sort()\n",
        "test_files.sort()"
      ],
      "metadata": {
        "id": "N1QgbqnipnbX"
      },
      "execution_count": null,
      "outputs": []
    },
    {
      "cell_type": "markdown",
      "source": [
        "## Experiment 1: 2 layer NN"
      ],
      "metadata": {
        "id": "yElSQqLJtcnL"
      }
    },
    {
      "cell_type": "code",
      "source": [
        "# Experiment 1 - 2 layer NN\n",
        "\n",
        "def split(word): \n",
        "    return [char for char in word] \n",
        "\n",
        "def load_array(data_arrays, batch_size, is_train=True):\n",
        "    \"\"\"Construct a PyTorch data iterator.\"\"\"\n",
        "    dataset = data.TensorDataset(*data_arrays)\n",
        "    return data.DataLoader(dataset, batch_size, shuffle=is_train)\n",
        "\n",
        "class BinaryClassification(nn.Module):\n",
        "  def __init__(self, input_size=32):\n",
        "    super(BinaryClassification, self).__init__()\n",
        "    self.linear1 = nn.Linear(input_size,10)\n",
        "    self.linear2 = nn.Linear(10,1)\n",
        "\n",
        "  def forward(self, x):\n",
        "    x = torch.sigmoid( self.linear1(x) )\n",
        "    x = torch.sigmoid( self.linear2(x) )\n",
        "    return x\n",
        "\n",
        "def accuracy(output,labels):\n",
        "  output = output >=0.5\n",
        "  acc = torch.sum(output==labels)/len(labels)\n",
        "  return acc\n",
        "\n",
        "def get_tensors_from_example_files(train_file, test_file):\n",
        "  ''' get features and label tensors from training and test files'''\n",
        "  file_train_data = open(train_file, 'r')\n",
        "  file_train_data = file_train_data.readlines()\n",
        "\n",
        "  file_test_data = open(test_file, 'r')\n",
        "  file_test_data = file_test_data.readlines()\n",
        "\n",
        "  # preprocess files to separate inputs and outputs\n",
        "  x_train = []\n",
        "  y_train = []\n",
        "  for line in file_train_data:\n",
        "    if not (line.startswith('.')):\n",
        "      x_train.append( line[:line.index(' ')] )\n",
        "      y_train.append( line[ line.index(' ')+1:line.index(' ')+2 ] ) \n",
        "\n",
        "  x_test = []\n",
        "  y_test = []\n",
        "  for line in file_test_data:\n",
        "    if not (line.startswith('.')):\n",
        "      x_test.append( line[:line.index(' ')] )\n",
        "      y_test.append( line[ line.index(' ')+1:line.index(' ')+2 ] ) \n",
        "\n",
        "  # convert data to tensors\n",
        "  for i,input in enumerate(x_train):\n",
        "    x_train[i] = split(input)\n",
        "    # convert each character to integer\n",
        "    for j,bit in enumerate(x_train[i]):\n",
        "        x_train[i][j] = int(bit)\n",
        "  features_train = torch.FloatTensor(x_train)\n",
        "  y_train = [int(i) for i in y_train]\n",
        "  labels_train = torch.FloatTensor(y_train)\n",
        "\n",
        "  for i,input in enumerate(x_test):\n",
        "    x_test[i] = split(input)\n",
        "    # convert each character to integer\n",
        "    for j,bit in enumerate(x_test[i]):\n",
        "        x_test[i][j] = int(bit)\n",
        "  features_test = torch.FloatTensor(x_test)\n",
        "  y_test = [int(i) for i in y_test]\n",
        "  labels_test = torch.FloatTensor(y_test)\n",
        "\n",
        "  return features_train, labels_train, features_test, labels_test\n",
        "\n",
        "def get_dataloaders(features_train, labels_train, features_test, labels_test):\n",
        "  ''' form iterable dataloaders for features and labels'''\n",
        "  batch_size = 10\n",
        "  train_data_iter = load_array((features_train, labels_train), batch_size)\n",
        "  test_data_iter = load_array((features_train, labels_train), batch_size)\n",
        "  return train_data_iter, test_data_iter\n",
        "\n",
        "def define_neural_net(input_size):\n",
        "\n",
        "  net = BinaryClassification(input_size)\n",
        "  net.to(device)\n",
        "  Loss = nn.BCELoss()\n",
        "  optimizer = torch.optim.SGD(net.parameters(), lr=0.01)\n",
        "\n",
        "  return net, Loss, optimizer\n",
        "\n",
        "def train_truth_table( net, Loss, optimizer, train_data_iter, num_epochs, features_train, labels_train ):\n",
        "\n",
        "  net.train()\n",
        "  for epoch in range(num_epochs):\n",
        "      for X, y in train_data_iter:\n",
        "          X = X.cuda()\n",
        "          y = y.cuda()\n",
        "          output = net(X)\n",
        "          l = Loss(output, y.reshape(-1,1) )\n",
        "          optimizer.zero_grad()\n",
        "          l.backward()\n",
        "          optimizer.step()\n",
        "      if (epoch%10==0):\n",
        "        acc = accuracy(net(features_train.cuda()).cpu(), labels_train.reshape(-1,1))\n",
        "        l = Loss(net(features_train.cuda()).cpu(), labels_train.reshape(-1,1))\n",
        "  \n",
        "  return net\n",
        "\n",
        "def test_net( net, test_data_iter):\n",
        "  acc = 0\n",
        "  net.eval()\n",
        "  with torch.no_grad():\n",
        "    for X,y in test_data_iter:\n",
        "      X = X.cuda()\n",
        "      output = net(X)\n",
        "      acc = acc + accuracy(output.cpu(), y.reshape(-1,1))\n",
        "    acc = acc/ len(test_data_iter)\n",
        "  return acc\n"
      ],
      "metadata": {
        "id": "lwgikC_Stgmw"
      },
      "execution_count": null,
      "outputs": []
    },
    {
      "cell_type": "code",
      "source": [
        "device = torch.device(\"cuda:0\" if torch.cuda.is_available() else \"cpu\")"
      ],
      "metadata": {
        "id": "mezLtYhzwCIA"
      },
      "execution_count": null,
      "outputs": []
    },
    {
      "cell_type": "code",
      "source": [
        "# Run experiment 1\n",
        "\n",
        "# read the .pla file\n",
        "# preprocess the .pla file to get the features and labels as tensors\n",
        "# form a dataloader\n",
        "# define the neural net\n",
        "# train the model for 100 epochs\n",
        "# test the model, note the accuracy\n",
        "\n",
        "results = []\n",
        "for i in range(len(train_files)):\n",
        "  \n",
        "  # get id of circuit\n",
        "  ex_id = train_files[i][ train_files[i].index('ex'):train_files[i].index('ex')+4  ]\n",
        "  \n",
        "  # read the .pla file and preprocess the .pla file to get the features and labels as tensors\n",
        "  features_train, labels_train, features_test, labels_test = get_tensors_from_example_files( train_files[i], test_files[i] )\n",
        "  \n",
        "  # form dataloaders\n",
        "  train_data_iter, test_data_iter = get_dataloaders( features_train, labels_train, features_test, labels_test )\n",
        "  \n",
        "  # get input size\n",
        "  input_size = features_train[0].size()[0]\n",
        "  \n",
        "  # form net\n",
        "  net, Loss, optimizer = define_neural_net( input_size )\n",
        "\n",
        "  # train\n",
        "  net = train_truth_table( net, Loss, optimizer, train_data_iter, 100, features_train, labels_train )\n",
        "  \n",
        "  #get accuracy\n",
        "  test_accuracy = test_net( net, test_data_iter )\n",
        "\n",
        "  # print info\n",
        "  if (i%5==0):\n",
        "    print(\"\\nworking on truth table: \", ex_id)\n",
        "    print(\"input size = \", input_size)\n",
        "    print(\"test accuracy achieved: \", test_accuracy.item())\n",
        "\n",
        "  # get result and append results list\n",
        "  result = (ex_id, input_size, test_accuracy.item() )\n",
        "  results.append( result )"
      ],
      "metadata": {
        "colab": {
          "base_uri": "https://localhost:8080/"
        },
        "id": "4FOHuN5Ytx1j",
        "outputId": "a279a320-9870-4bd5-e3a9-fe9d4a89f051"
      },
      "execution_count": null,
      "outputs": [
        {
          "output_type": "stream",
          "name": "stdout",
          "text": [
            "working on truth table:  ex00\n",
            "input size =  32\n",
            "test accuracy achieved:  0.9860938787460327\n",
            "working on truth table:  ex05\n",
            "input size =  128\n",
            "test accuracy achieved:  0.9757814407348633\n",
            "working on truth table:  ex10\n",
            "input size =  32\n",
            "test accuracy achieved:  0.8924988508224487\n",
            "working on truth table:  ex15\n",
            "input size =  32\n",
            "test accuracy achieved:  0.9226554036140442\n",
            "working on truth table:  ex20\n",
            "input size =  16\n",
            "test accuracy achieved:  0.5539065003395081\n",
            "working on truth table:  ex25\n",
            "input size =  64\n",
            "test accuracy achieved:  1.0\n",
            "working on truth table:  ex30\n",
            "input size =  20\n",
            "test accuracy achieved:  0.9978125691413879\n",
            "working on truth table:  ex35\n",
            "input size =  120\n",
            "test accuracy achieved:  0.9942188262939453\n",
            "working on truth table:  ex40\n",
            "input size =  16\n",
            "test accuracy achieved:  0.6615628004074097\n",
            "working on truth table:  ex45\n",
            "input size =  34\n",
            "test accuracy achieved:  0.5843757390975952\n",
            "working on truth table:  ex50\n",
            "input size =  19\n",
            "test accuracy achieved:  0.9592183232307434\n",
            "working on truth table:  ex55\n",
            "input size =  42\n",
            "test accuracy achieved:  0.9914064407348633\n",
            "working on truth table:  ex60\n",
            "input size =  43\n",
            "test accuracy achieved:  0.939843475818634\n",
            "working on truth table:  ex65\n",
            "input size =  19\n",
            "test accuracy achieved:  0.9978126287460327\n",
            "working on truth table:  ex70\n",
            "input size =  23\n",
            "test accuracy achieved:  0.991875171661377\n",
            "working on truth table:  ex75\n",
            "input size =  16\n",
            "test accuracy achieved:  1.0\n",
            "working on truth table:  ex80\n",
            "input size =  196\n",
            "test accuracy achieved:  0.9796876907348633\n",
            "working on truth table:  ex85\n",
            "input size =  196\n",
            "test accuracy achieved:  0.9898438453674316\n",
            "working on truth table:  ex90\n",
            "input size =  768\n",
            "test accuracy achieved:  0.975781261920929\n",
            "working on truth table:  ex95\n",
            "input size =  768\n",
            "test accuracy achieved:  0.9875000715255737\n"
          ]
        }
      ]
    },
    {
      "cell_type": "code",
      "source": [
        "results_list = results"
      ],
      "metadata": {
        "id": "GUW_9YTucOQm"
      },
      "execution_count": null,
      "outputs": []
    },
    {
      "cell_type": "code",
      "source": [
        "results = np.asarray([res[2] for res in results_list])"
      ],
      "metadata": {
        "id": "ubf2nsR3cmfX"
      },
      "execution_count": null,
      "outputs": []
    },
    {
      "cell_type": "code",
      "source": [
        "# average accuracy over all benchmarks\n",
        "avg_accuracy = np.sum(results)/len(results)\n",
        "print(\"overall accuracy across 100 benchmarks= \", avg_accuracy*100, \" %\")"
      ],
      "metadata": {
        "colab": {
          "base_uri": "https://localhost:8080/"
        },
        "id": "hwgqAblIbYKR",
        "outputId": "848f74c4-c08e-4143-b241-b6387a70fe3a"
      },
      "execution_count": null,
      "outputs": [
        {
          "output_type": "stream",
          "name": "stdout",
          "text": [
            "overall accuracy across 100 benchmarks=  91.77999836206436  %\n"
          ]
        }
      ]
    },
    {
      "cell_type": "code",
      "source": [
        "# average accuracy by category (10 benchmarks per category)\n",
        "avg_accuracy_per_category = np.zeros((10))\n",
        "for i in range(10):\n",
        "  avg_accuracy_per_category[i] = np.average(results[i*10:i*10+9])\n",
        "\n",
        "# print(avg_accuracy_per_category)\n",
        "\n",
        "x_labels = np.array(['00-09','10-19','20-29','30-39','40-49','50-59','60-69','70-79','80-89','90-99'])\n",
        "plt.bar(x_labels,avg_accuracy_per_category)\n",
        "plt.xlabel('benchmark ID')\n",
        "plt.ylabel('Avg. accuracy for benchmark category')"
      ],
      "metadata": {
        "colab": {
          "base_uri": "https://localhost:8080/",
          "height": 296
        },
        "id": "6QwCesEMcITu",
        "outputId": "23d269b9-8226-4853-b542-f72f379ea8a6"
      },
      "execution_count": null,
      "outputs": [
        {
          "output_type": "execute_result",
          "data": {
            "text/plain": [
              "Text(0, 0.5, 'Avg. accuracy for benchmark category')"
            ]
          },
          "metadata": {},
          "execution_count": 43
        },
        {
          "output_type": "display_data",
          "data": {
            "image/png": "[encoded data removed]",
            "text/plain": [
              "<Figure size 432x288 with 1 Axes>"
            ]
          },
          "metadata": {
            "needs_background": "light"
          }
        }
      ]
    },
    {
      "cell_type": "code",
      "source": [
        "# analysis of input_size v accuracy\n",
        "# input_size_acc = [[input_size,num_occurences, sum_accuracies],[],...]\n",
        "\n",
        "# get input sizes\n",
        "input_sizes = []\n",
        "for i,entry in enumerate(results_list):\n",
        "  if entry[1] not in input_sizes:\n",
        "    input_sizes.append(entry[1])\n",
        "\n",
        "input_sizes = np.asarray(input_sizes).astype(np.float)\n",
        "input_sizes = np.sort(input_sizes)\n",
        "# print(input_sizes)\n",
        "# print(np.shape(input_sizes))\n",
        "\n",
        "input_size_acc = np.zeros((len(input_sizes),3))\n",
        "input_size_acc[:,0] = input_sizes\n",
        "# print(input_size_acc)\n",
        "\n",
        "for i,entry in enumerate(results_list):\n",
        "  idx = np.where(input_size_acc[:,0] == entry[1])\n",
        "  input_size_acc[idx,1] = input_size_acc[idx,1]+1\n",
        "  input_size_acc[idx,2] = input_size_acc[idx,2]+entry[2]"
      ],
      "metadata": {
        "id": "sorYF79ld6BI"
      },
      "execution_count": null,
      "outputs": []
    },
    {
      "cell_type": "code",
      "source": [
        "plt.plot( input_size_acc[:,0], input_size_acc[:,2]/ input_size_acc[:,1], '.' )\n",
        "plt.xlabel('input_size')\n",
        "plt.ylabel('average_accuracy')"
      ],
      "metadata": {
        "colab": {
          "base_uri": "https://localhost:8080/",
          "height": 297
        },
        "id": "C4yuduD-eNb3",
        "outputId": "a001404c-7635-47b7-a0ba-55b908cbb4c4"
      },
      "execution_count": null,
      "outputs": [
        {
          "output_type": "execute_result",
          "data": {
            "text/plain": [
              "Text(0, 0.5, 'average_accuracy')"
            ]
          },
          "metadata": {},
          "execution_count": 41
        },
        {
          "output_type": "display_data",
          "data": {
            "image/png": "[encoded data removed]",
            "text/plain": [
              "<Figure size 432x288 with 1 Axes>"
            ]
          },
          "metadata": {
            "needs_background": "light"
          }
        }
      ]
    },
    {
      "cell_type": "markdown",
      "source": [
        "## Experiment 2: 3 layer NN"
      ],
      "metadata": {
        "id": "gePMs24UgSUS"
      }
    },
    {
      "cell_type": "code",
      "source": [
        "# 3 layer NN\n",
        "\n",
        "class BinaryClassification(nn.Module):\n",
        "  def __init__(self, input_size=32):\n",
        "    super(BinaryClassification, self).__init__()\n",
        "    self.linear1 = nn.Linear(input_size, input_size//2)\n",
        "    self.linear2 = nn.Linear(input_size//2, input_size//4)\n",
        "    self.linear3 = nn.Linear(input_size//4,1)\n",
        "\n",
        "  def forward(self, x):\n",
        "    x = torch.sigmoid( self.linear1(x) )\n",
        "    x = torch.sigmoid( self.linear2(x) )\n",
        "    x = torch.sigmoid( self.linear3(x) )\n",
        "    return x"
      ],
      "metadata": {
        "id": "PeYvkXR0gnOA"
      },
      "execution_count": null,
      "outputs": []
    },
    {
      "cell_type": "code",
      "source": [
        "# Run experiment 2\n",
        "\n",
        "# read the .pla file\n",
        "# preprocess the .pla file to get the features and labels as tensors\n",
        "# form a dataloader\n",
        "# define the neural net\n",
        "# train the model for 100 epochs\n",
        "# test the model, note the accuracy\n",
        "\n",
        "results = []\n",
        "for i in range(len(train_files)):\n",
        "  \n",
        "  # get id of circuit\n",
        "  ex_id = train_files[i][ train_files[i].index('ex'):train_files[i].index('ex')+4  ]\n",
        "  \n",
        "  # read the .pla file and preprocess the .pla file to get the features and labels as tensors\n",
        "  features_train, labels_train, features_test, labels_test = get_tensors_from_example_files( train_files[i], test_files[i] )\n",
        "  \n",
        "  # form dataloaders\n",
        "  train_data_iter, test_data_iter = get_dataloaders( features_train, labels_train, features_test, labels_test )\n",
        "  \n",
        "  # get input size\n",
        "  input_size = features_train[0].size()[0]\n",
        "  \n",
        "  # form net\n",
        "  net, Loss, optimizer = define_neural_net( input_size )\n",
        "\n",
        "  # train\n",
        "  net = train_truth_table( net, Loss, optimizer, train_data_iter, 100, features_train, labels_train )\n",
        "  \n",
        "  #get accuracy\n",
        "  test_accuracy = test_net( net, test_data_iter )\n",
        "\n",
        "  # print info\n",
        "  if (i%5==0):\n",
        "    print(\"\\nworking on truth table: \", ex_id)\n",
        "    # print(\"input size = \", input_size)\n",
        "    print(\"test accuracy achieved: \", test_accuracy.item())\n",
        "\n",
        "  # get result and append results list\n",
        "  result = (ex_id, input_size, test_accuracy.item() )\n",
        "  results.append( result )"
      ],
      "metadata": {
        "colab": {
          "base_uri": "https://localhost:8080/"
        },
        "id": "MI5n2IV9g4Bl",
        "outputId": "3f89efd8-c7dc-41ce-ed13-235c6c2deba0"
      },
      "execution_count": null,
      "outputs": [
        {
          "output_type": "stream",
          "name": "stdout",
          "text": [
            "\n",
            "working on truth table:  ex00\n",
            "test accuracy achieved:  0.5079686641693115\n",
            "\n",
            "working on truth table:  ex05\n",
            "test accuracy achieved:  0.9831253886222839\n",
            "\n",
            "working on truth table:  ex10\n",
            "test accuracy achieved:  0.7435933351516724\n",
            "\n",
            "working on truth table:  ex15\n",
            "test accuracy achieved:  0.8329672813415527\n",
            "\n",
            "working on truth table:  ex20\n",
            "test accuracy achieved:  0.5031250715255737\n",
            "\n",
            "working on truth table:  ex25\n",
            "test accuracy achieved:  0.4989064335823059\n",
            "\n",
            "working on truth table:  ex30\n",
            "test accuracy achieved:  0.9975000619888306\n",
            "\n",
            "working on truth table:  ex35\n",
            "test accuracy achieved:  0.994062602519989\n",
            "\n",
            "working on truth table:  ex40\n",
            "test accuracy achieved:  0.5021877288818359\n",
            "\n",
            "working on truth table:  ex45\n",
            "test accuracy achieved:  0.5206252336502075\n",
            "\n",
            "working on truth table:  ex50\n",
            "test accuracy achieved:  0.7217190265655518\n",
            "\n",
            "working on truth table:  ex55\n",
            "test accuracy achieved:  0.9345308542251587\n",
            "\n",
            "working on truth table:  ex60\n",
            "test accuracy achieved:  0.8509357571601868\n",
            "\n",
            "working on truth table:  ex65\n",
            "test accuracy achieved:  0.9024986028671265\n",
            "\n",
            "working on truth table:  ex70\n",
            "test accuracy achieved:  0.927655816078186\n"
          ]
        }
      ]
    },
    {
      "cell_type": "code",
      "source": [
        ""
      ],
      "metadata": {
        "id": "stAZRJlEg9L1"
      },
      "execution_count": null,
      "outputs": []
    }
  ]
}